{
 "cells": [
  {
   "cell_type": "code",
   "execution_count": 12,
   "metadata": {},
   "outputs": [],
   "source": [
    "import numpy as np\n",
    "import pandas as pd\n",
    "from pandas_datareader import data as web\n",
    "import matplotlib.pyplot as plt\n",
    "import matplotlib.dates as mdates\n",
    "%matplotlib inline\n",
    "import datetime as dt\n",
    "import mplfinance as mpf"
   ]
  },
  {
   "cell_type": "code",
   "execution_count": 18,
   "metadata": {},
   "outputs": [],
   "source": [
    "def save_to_csv_from_yahoo(ticker, syear, smonth, sday, eyear, emonth, eday):\n",
    "    start = dt.datetime(syear, smonth, sday)\n",
    "    end = dt.datetime(eyear, emonth, eday)\n",
    "    \n",
    "    df = web.DataReader(ticker, 'yahoo', start, end)\n",
    "    df.to_csv(\"/Users/jung/Downloads/class_otter/code/jung/project2/\" + ticker + \".csv\")\n",
    "    return df"
   ]
  },
  {
   "cell_type": "code",
   "execution_count": 24,
   "metadata": {},
   "outputs": [],
   "source": [
    "def get_df_from_csv(ticker):\n",
    "    try:\n",
    "        df = pd.read_csv(\"/Users/jung/Downloads/class_otter/code/jung/project2/\" + ticker + \".csv\")\n",
    "    except FileNotFoundError:\n",
    "        print(\"File doesn't exist\")\n",
    "    else:\n",
    "        return df"
   ]
  },
  {
   "cell_type": "code",
   "execution_count": 29,
   "metadata": {},
   "outputs": [],
   "source": [
    "def add_daily_return_to_df(df, ticker):\n",
    "    df['Daily Return'] = (df['Adj Close'] / df['Adj Close'].shift(1)) - 1\n",
    "    df.to_csv(\"/Users/jung/Downloads/class_otter/code/jung/project2/\" + ticker + \".csv\")\n",
    "    return df\n"
   ]
  },
  {
   "cell_type": "code",
   "execution_count": 51,
   "metadata": {},
   "outputs": [],
   "source": [
    "def get_return_defined_time(df, syear, smonth, sday, eyear, emonth, eday):\n",
    "    start = f'{syear}-{smonth}-{sday}'\n",
    "    end = f'{eyear}-{emonth}-{eday}'\n",
    "    df['Date'] = pd.to_datetime(df['Date'])\n",
    "    mask = (df['Date'] >= start) & (df['Date'] <= end)\n",
    "    daily_ret = df.loc[mask]['Daily Return'].mean()\n",
    "    df2 = df.loc[mask]\n",
    "    days = df2.shape[0]\n",
    "    return (days * daily_ret)"
   ]
  },
  {
   "cell_type": "code",
   "execution_count": 64,
   "metadata": {},
   "outputs": [],
   "source": [
    "def mplfinance_plot(ticker, chart_type, syear, smonth, sday, eyear, emonth, eday):\n",
    "    start = f\"{syear}-{smonth}-{sday}\"\n",
    "    end = f\"{eyear}-{emonth}-{eday}\"\n",
    "    \n",
    "    try:\n",
    "        df = pd.read_csv(\"/Users/jung/Downloads/class_otter/code/jung/project2/\" + ticker + \".csv\")\n",
    "    except FileNotFoundError:\n",
    "        print(\"File Doesn't Exist\")\n",
    "    else:  \n",
    "        df.index = pd.DatetimeIndex(df['Date'])\n",
    "        df_sub = df.loc[start:end]\n",
    "        mpf.plot(df_sub, type = 'candle')\n",
    "        mpf.plot(df_sub, type = 'line')\n",
    "        mpf.plot(df_sub, type = 'ohlc', mav = 4)\n",
    "        \n",
    "        s = mpf.make_mpf_style(base_mpf_style = 'charles', rc = {'font.size' : 8})\n",
    "        fig = mpf.figure(figsize = (12, 8), style = s)\n",
    "        ax = fig.add_subplot(2,1,2)\n",
    "        av = fig.add_subplot(2,1,2, sharex = ax)\n",
    "        mpf.plot(df_sub, type = chart_type, mav = (3,5,7), ax = ax, volume = av, show_nontrading= True)\n"
   ]
  },
  {
   "cell_type": "code",
   "execution_count": 3,
   "metadata": {},
   "outputs": [],
   "source": [
    "def price_plot(ticker, syear, smonth, sday, eyear, emonth, eday):\n",
    "    start = f\"{syear}-{smonth}-{sday}\"\n",
    "    end = f\"{eyear}-{emonth}-{eday}\"\n",
    "    \n",
    "    try:\n",
    "        df = pd.read_csv(\"/Users/jung/Downloads/class_otter/code/jung/project2/\" + ticker + \".csv\")\n",
    "    except FileNotFoundError:\n",
    "        print(\"File Doesn't Exist\")\n",
    "    else:  \n",
    "        df.index = pd.DatetimeIndex(df['Date'])\n",
    "        df_sub = df.loc[start:end]\n",
    "        df_np = df_sub.to_numpy()\n",
    "        np_adj_close = df_np[:,5]\n",
    "        date_arr = df_np[:,1]\n",
    "        fig = plt.figure(figsize = (12, 8), dpi = 100)\n",
    "        axes = fig.add_axes([0,0,1,1])\n",
    "        axes.plot(date_arr, np_adj_close, color = 'navy')\n",
    "        axes.xaxis.set_major_locator(plt.MaxNLocator(8))\n",
    "        axes.grid(True, color = '0.6', dashes = (5, 2, 1, 2))\n",
    "        axes.set_facecolor('#FAEBD7')"
   ]
  },
  {
   "cell_type": "code",
   "execution_count": 4,
   "metadata": {},
   "outputs": [],
   "source": [
    "def download_multiple_stocks(syear, smonth, sday, eyear, emonth, eday, *args):\n",
    "    for x in args:\n",
    "        save_to_csv_from_yahoo(x, syear, smonth, sday, eyear, emonth, eday)"
   ]
  },
  {
   "cell_type": "code",
   "execution_count": 6,
   "metadata": {},
   "outputs": [
    {
     "ename": "NameError",
     "evalue": "name 'save_to_csv_from_yahoo' is not defined",
     "output_type": "error",
     "traceback": [
      "\u001b[0;31m---------------------------------------------------------------------------\u001b[0m",
      "\u001b[0;31mNameError\u001b[0m                                 Traceback (most recent call last)",
      "Input \u001b[0;32mIn [6]\u001b[0m, in \u001b[0;36m<module>\u001b[0;34m\u001b[0m\n\u001b[0;32m----> 1\u001b[0m \u001b[43msave_to_csv_from_yahoo\u001b[49m(\u001b[38;5;124m\"\u001b[39m\u001b[38;5;124mAMZN\u001b[39m\u001b[38;5;124m\"\u001b[39m, \u001b[38;5;241m2020\u001b[39m, \u001b[38;5;241m1\u001b[39m, \u001b[38;5;241m1\u001b[39m, \u001b[38;5;241m2021\u001b[39m, \u001b[38;5;241m1\u001b[39m, \u001b[38;5;241m1\u001b[39m)\n\u001b[1;32m      2\u001b[0m AMZN \u001b[38;5;241m=\u001b[39m get_df_from_csv(\u001b[38;5;124m\"\u001b[39m\u001b[38;5;124mAMZN\u001b[39m\u001b[38;5;124m\"\u001b[39m)\n\u001b[1;32m      3\u001b[0m add_daily_return_to_df(AMZN, \u001b[38;5;124m\"\u001b[39m\u001b[38;5;124mAMZN\u001b[39m\u001b[38;5;124m\"\u001b[39m)\n",
      "\u001b[0;31mNameError\u001b[0m: name 'save_to_csv_from_yahoo' is not defined"
     ]
    }
   ],
   "source": [
    "save_to_csv_from_yahoo(\"AMZN\", 2020, 1, 1, 2021, 1, 1)\n",
    "AMZN = get_df_from_csv(\"AMZN\")\n",
    "add_daily_return_to_df(AMZN, \"AMZN\")\n",
    "tot_return = get_return_defined_time(AMZN, 2020, 1, 1, 2021, 1, 1)\n",
    "# print(f\"Total Return: {tot_return}\")\n",
    "\n",
    "# mplfinance_plot(\"AMZN\", \"ohlc\", 2020, 1, 1, 2021, 1, 1)\n",
    "price_plot(\"AMZN\", 2020, 1, 1, 2021, 1, 1)\n",
    "\n",
    "tickers = [\"FB\", \"AAPL\", \"NFLX\", \"GOOG\"]\n",
    "download_multiple_stocks(2020, 1, 1, 2021, 1, 1, *tickers)"
   ]
  },
  {
   "cell_type": "code",
   "execution_count": null,
   "metadata": {},
   "outputs": [],
   "source": []
  },
  {
   "cell_type": "code",
   "execution_count": null,
   "metadata": {},
   "outputs": [],
   "source": []
  }
 ],
 "metadata": {
  "interpreter": {
   "hash": "397704579725e15f5c7cb49fe5f0341eb7531c82d19f2c29d197e8b64ab5776b"
  },
  "kernelspec": {
   "display_name": "Python 3.9.9 64-bit",
   "language": "python",
   "name": "python3"
  },
  "language_info": {
   "codemirror_mode": {
    "name": "ipython",
    "version": 3
   },
   "file_extension": ".py",
   "mimetype": "text/x-python",
   "name": "python",
   "nbconvert_exporter": "python",
   "pygments_lexer": "ipython3",
   "version": "3.9.9"
  },
  "orig_nbformat": 4
 },
 "nbformat": 4,
 "nbformat_minor": 2
}
